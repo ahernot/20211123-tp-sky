{
 "cells": [
  {
   "cell_type": "code",
   "execution_count": 5,
   "metadata": {},
   "outputs": [],
   "source": [
    "import random as rd\n",
    "import numpy as np\n",
    "import pandas as pd\n",
    "import os\n",
    "\n",
    "from scoring import Metrics\n",
    "from classification import Random"
   ]
  },
  {
   "cell_type": "code",
   "execution_count": 2,
   "metadata": {},
   "outputs": [],
   "source": [
    "DIRPATH = 'src'\n",
    "\n",
    "# Import data\n",
    "import_path = os.path.join(DIRPATH, 'export.npy')\n",
    "\n",
    "data = np.load (import_path)\n",
    "#data[:, :-1] = data[:, :-1]/255.  # normalise values\n",
    "vals_nb = data.shape[0]"
   ]
  },
  {
   "cell_type": "code",
   "execution_count": 3,
   "metadata": {},
   "outputs": [],
   "source": [
    "# Create train and test sets\n",
    "\n",
    "def create_sets(data, train_frac=0.05):\n",
    "\n",
    "    # Create (train, test)\n",
    "    data_shuffled = data.copy()\n",
    "\n",
    "    np.random.seed(0)\n",
    "    np.random.shuffle(data_shuffled)\n",
    "\n",
    "    train_nb = int(vals_nb * train_frac)\n",
    "    # print(f'training on {train_nb} vals')\n",
    "\n",
    "    return data_shuffled[:train_nb], data_shuffled[train_nb:]\n",
    "\n",
    "data_train, data_test = create_sets(data, train_frac=0.3)"
   ]
  },
  {
   "cell_type": "code",
   "execution_count": 10,
   "metadata": {},
   "outputs": [],
   "source": [
    "from classifiers.lda import LDA\n",
    "\n",
    "RUN_LDA = False\n",
    "if RUN_LDA:\n",
    "    data_train_lda = data_train\n",
    "    data_test_lda  = data_test\n",
    "\n",
    "    # Train LDA\n",
    "    lda = LDA()\n",
    "    lda.fit (data_train_lda[:, :-1], data_train_lda[:, -1])\n",
    "\n",
    "    # Test LDA\n",
    "    pred_lda = lda.eval_batch(data_test_lda[:, :-1], verbose=False)\n",
    "    metrics_lda = Metrics(data_test_lda[:, -1], pred_lda)\n",
    "    print(metrics_lda)"
   ]
  },
  {
   "cell_type": "code",
   "execution_count": null,
   "metadata": {},
   "outputs": [],
   "source": [
    "from classifiers.qda import QDA\n",
    "\n",
    "RUN_QDA = True\n",
    "if RUN_QDA:\n",
    "    data_train_qda = data_train\n",
    "    data_test_qda  = data_test[:10000]\n",
    "\n",
    "    # Train QDA\n",
    "    qda = QDA()\n",
    "    qda.fit (data_train_qda)\n",
    "\n",
    "    # Test QDA\n",
    "    pred_qda = qda.eval_batch(data_test_qda[:, :-1], verbose=False)\n",
    "    metrics_qda = Metrics(data_test_qda[:, -1], pred_qda)\n",
    "    print(metrics_qda)"
   ]
  }
 ],
 "metadata": {
  "interpreter": {
   "hash": "397704579725e15f5c7cb49fe5f0341eb7531c82d19f2c29d197e8b64ab5776b"
  },
  "kernelspec": {
   "display_name": "Python 3.9.0 64-bit",
   "language": "python",
   "name": "python3"
  },
  "language_info": {
   "codemirror_mode": {
    "name": "ipython",
    "version": 3
   },
   "file_extension": ".py",
   "mimetype": "text/x-python",
   "name": "python",
   "nbconvert_exporter": "python",
   "pygments_lexer": "ipython3",
   "version": "3.9.0"
  },
  "orig_nbformat": 4
 },
 "nbformat": 4,
 "nbformat_minor": 2
}
