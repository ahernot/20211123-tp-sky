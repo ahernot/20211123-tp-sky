{
 "cells": [
  {
   "cell_type": "code",
   "execution_count": 1,
   "metadata": {},
   "outputs": [],
   "source": [
    "import random as rd\n",
    "import numpy as np\n",
    "import pandas as pd\n",
    "import os\n",
    "\n",
    "from scoring import Metrics\n",
    "from classification import Random"
   ]
  },
  {
   "cell_type": "code",
   "execution_count": 2,
   "metadata": {},
   "outputs": [],
   "source": [
    "DIRPATH = 'src'\n",
    "\n",
    "# Import data\n",
    "import_path = os.path.join(DIRPATH, 'export.npy')\n",
    "\n",
    "data = np.load (import_path)\n",
    "#data[:, :-1] = data[:, :-1]/255.  # normalise values\n",
    "vals_nb = data.shape[0]"
   ]
  },
  {
   "cell_type": "code",
   "execution_count": 3,
   "metadata": {},
   "outputs": [],
   "source": [
    "# Create train and test sets (19.2s in low power, 11.5s)\n",
    "\n",
    "def create_sets(data, train_frac=0.05):\n",
    "\n",
    "    # Create (train, test)\n",
    "    data_shuffled = data.copy()\n",
    "\n",
    "    np.random.seed(0)\n",
    "    np.random.shuffle(data_shuffled)\n",
    "\n",
    "    train_nb = int(vals_nb * train_frac)\n",
    "    # print(f'training on {train_nb} vals')\n",
    "\n",
    "    return data_shuffled[:train_nb], data_shuffled[train_nb:]\n",
    "\n",
    "data_train, data_test = create_sets(data, train_frac=0.3)"
   ]
  },
  {
   "cell_type": "code",
   "execution_count": 4,
   "metadata": {},
   "outputs": [],
   "source": [
    "import cv2\n",
    "\n",
    "# Test image\n",
    "image_test_path = 'src/ima_1e8ccf23-d106-4227-908c-e4fbbb1da5f8.jpg'\n",
    "\n",
    "image_test = image_test_path.split('/')[-1]\n",
    "image_test_name, _ = os.path.splitext(image_test)\n",
    "id_test = image_test_name[4:]\n",
    "\n",
    "# Import and flatten test image\n",
    "image_test_path = os.path.join('src/sky-images', image_test)\n",
    "image_test_array = cv2.imread (image_test_path)\n",
    "image_test_shape = image_test_array.shape\n",
    "image_test_array_flat = image_test_array.reshape(-1, 1, 3)# / 255.\n",
    "image_test_array_flat = image_test_array_flat.squeeze()"
   ]
  },
  {
   "cell_type": "code",
   "execution_count": 7,
   "metadata": {},
   "outputs": [
    {
     "name": "stdout",
     "output_type": "stream",
     "text": [
      "[0 0 1 ... 1 1 0]\n",
      "TP  = 2273658\n",
      "FP  = 225912\n",
      "FN  = 328428\n",
      "TN  = 4121792\n",
      "P   = 2602086\n",
      "N   = 4347704\n",
      "=================================\n",
      "TPR = 0.8737828034892006\n",
      "TNR = 0.9480387809289685\n",
      "FPR = 0.05196121907103152\n",
      "FNR = 0.1262171965107994\n",
      "=================================\n",
      "Precision           = 0.9096196545805879\n",
      "False omission rate = 0.05196121907103152\n",
      "Error rate          = 0.07976356120112982\n",
      "Accuracy            = 0.9202364387988702\n",
      "=================================\n",
      "F1-score            = 0.8913411645159924\n",
      "MCC                 = 0.8287908705201819\n",
      "Kappa score         = 0.8283733047108975\n",
      "[0 0 0 ... 0 0 0]\n"
     ]
    }
   ],
   "source": [
    "from classifiers.lda import LDA_bin as LDA\n",
    "# F1 = 0.8913411645159924\n",
    "# dt = 1:37min (low power)\n",
    "\n",
    "RUN_LDA = True\n",
    "if RUN_LDA:\n",
    "    X_train, y_train = data_train[:, :-1], data_train[:, -1]\n",
    "    X_test,  y_test  = data_test [:, :-1], data_test [:, -1]\n",
    "\n",
    "    # Train LDA\n",
    "    lda = LDA()\n",
    "    lda.fit (X_train, y_train)\n",
    "\n",
    "    # Test LDA\n",
    "    pred_lda = lda.predict(X_test.T)\n",
    "    metrics_lda = Metrics(pred_lda, y_test)\n",
    "\n",
    "    # Test on test image\n",
    "    image_test_pred = lda.predict(image_test_array_flat.T)\n",
    "    image_test_pred = image_test_pred.reshape(image_test_shape[:2])\n",
    "    cv2.imwrite(f'output/{image_test_name}-pred-lda.png', image_test_pred * 255)"
   ]
  },
  {
   "cell_type": "code",
   "execution_count": null,
   "metadata": {},
   "outputs": [
    {
     "name": "stdout",
     "output_type": "stream",
     "text": [
      "(100000, 3)\n"
     ]
    },
    {
     "ename": "ValueError",
     "evalue": "operands could not be broadcast together with shapes (100000,) (100000,3) ",
     "output_type": "error",
     "traceback": [
      "\u001b[0;31m---------------------------------------------------------------------------\u001b[0m",
      "\u001b[0;31mValueError\u001b[0m                                Traceback (most recent call last)",
      "\u001b[0;32m<ipython-input-7-224e357f6696>\u001b[0m in \u001b[0;36m<module>\u001b[0;34m\u001b[0m\n\u001b[1;32m     19\u001b[0m     \u001b[0mpred_qda\u001b[0m \u001b[0;34m=\u001b[0m \u001b[0mqda\u001b[0m\u001b[0;34m.\u001b[0m\u001b[0mpredict\u001b[0m\u001b[0;34m(\u001b[0m\u001b[0mtest_vals\u001b[0m\u001b[0;34m)\u001b[0m\u001b[0;34m\u001b[0m\u001b[0;34m\u001b[0m\u001b[0m\n\u001b[1;32m     20\u001b[0m     \u001b[0mprint\u001b[0m\u001b[0;34m(\u001b[0m\u001b[0mpred_qda\u001b[0m\u001b[0;34m.\u001b[0m\u001b[0mshape\u001b[0m\u001b[0;34m)\u001b[0m\u001b[0;34m\u001b[0m\u001b[0;34m\u001b[0m\u001b[0m\n\u001b[0;32m---> 21\u001b[0;31m     \u001b[0mmetrics_qda\u001b[0m \u001b[0;34m=\u001b[0m \u001b[0mMetrics\u001b[0m\u001b[0;34m(\u001b[0m\u001b[0mtest_labels\u001b[0m\u001b[0;34m,\u001b[0m \u001b[0mpred_qda\u001b[0m\u001b[0;34m)\u001b[0m\u001b[0;34m\u001b[0m\u001b[0;34m\u001b[0m\u001b[0m\n\u001b[0m\u001b[1;32m     22\u001b[0m     \u001b[0mprint\u001b[0m\u001b[0;34m(\u001b[0m\u001b[0mmetrics_qda\u001b[0m\u001b[0;34m)\u001b[0m\u001b[0;34m\u001b[0m\u001b[0;34m\u001b[0m\u001b[0m\n\u001b[1;32m     23\u001b[0m \u001b[0;34m\u001b[0m\u001b[0m\n",
      "\u001b[0;32m~/Documents/Data Sophia/TP/20211123-tp-sky/scoring.py\u001b[0m in \u001b[0;36m__init__\u001b[0;34m(self, labels, predictions)\u001b[0m\n\u001b[1;32m     19\u001b[0m \u001b[0;34m\u001b[0m\u001b[0m\n\u001b[1;32m     20\u001b[0m         \u001b[0;31m# Confusion matrix\u001b[0m\u001b[0;34m\u001b[0m\u001b[0;34m\u001b[0m\u001b[0;34m\u001b[0m\u001b[0m\n\u001b[0;32m---> 21\u001b[0;31m         \u001b[0mself\u001b[0m\u001b[0;34m.\u001b[0m\u001b[0mtpos\u001b[0m \u001b[0;34m=\u001b[0m \u001b[0mnp\u001b[0m\u001b[0;34m.\u001b[0m\u001b[0mcount_nonzero\u001b[0m\u001b[0;34m(\u001b[0m\u001b[0mnp\u001b[0m\u001b[0;34m.\u001b[0m\u001b[0mmultiply\u001b[0m\u001b[0;34m(\u001b[0m\u001b[0mlabels_mask_pos\u001b[0m\u001b[0;34m,\u001b[0m \u001b[0mpredictions_mask_pos\u001b[0m\u001b[0;34m)\u001b[0m\u001b[0;34m)\u001b[0m\u001b[0;34m\u001b[0m\u001b[0;34m\u001b[0m\u001b[0m\n\u001b[0m\u001b[1;32m     22\u001b[0m         \u001b[0mself\u001b[0m\u001b[0;34m.\u001b[0m\u001b[0mfpos\u001b[0m \u001b[0;34m=\u001b[0m \u001b[0mnp\u001b[0m\u001b[0;34m.\u001b[0m\u001b[0mcount_nonzero\u001b[0m\u001b[0;34m(\u001b[0m\u001b[0mnp\u001b[0m\u001b[0;34m.\u001b[0m\u001b[0mmultiply\u001b[0m\u001b[0;34m(\u001b[0m\u001b[0mlabels_mask_neg\u001b[0m\u001b[0;34m,\u001b[0m \u001b[0mpredictions_mask_pos\u001b[0m\u001b[0;34m)\u001b[0m\u001b[0;34m)\u001b[0m\u001b[0;34m\u001b[0m\u001b[0;34m\u001b[0m\u001b[0m\n\u001b[1;32m     23\u001b[0m         \u001b[0mself\u001b[0m\u001b[0;34m.\u001b[0m\u001b[0mfneg\u001b[0m \u001b[0;34m=\u001b[0m \u001b[0mnp\u001b[0m\u001b[0;34m.\u001b[0m\u001b[0mcount_nonzero\u001b[0m\u001b[0;34m(\u001b[0m\u001b[0mnp\u001b[0m\u001b[0;34m.\u001b[0m\u001b[0mmultiply\u001b[0m\u001b[0;34m(\u001b[0m\u001b[0mlabels_mask_pos\u001b[0m\u001b[0;34m,\u001b[0m \u001b[0mpredictions_mask_neg\u001b[0m\u001b[0;34m)\u001b[0m\u001b[0;34m)\u001b[0m\u001b[0;34m\u001b[0m\u001b[0;34m\u001b[0m\u001b[0m\n",
      "\u001b[0;31mValueError\u001b[0m: operands could not be broadcast together with shapes (100000,) (100000,3) "
     ]
    }
   ],
   "source": [
    "### QDA\n",
    "from classifiers.qda import QDA\n",
    "\n",
    "# F1 = 0.8984199239563736\n",
    "# dt = 6.1s (100k datapoints) -> non-vectorized function\n",
    "\n",
    "RUN_QDA = False\n",
    "if RUN_QDA:\n",
    "    data_train_qda = data_train\n",
    "    data_test_qda  = data_test[:100000]\n",
    "    train_vals, train_labels = data_train_qda[:, :-1], data_train_qda[:, -1]\n",
    "    test_vals, test_labels   = data_test_qda[:, :-1], data_test_qda[:, -1]\n",
    "\n",
    "    # Train QDA\n",
    "    qda = QDA()\n",
    "    qda.fit (train_vals, train_labels)\n",
    "\n",
    "    # Test QDA\n",
    "    pred_qda = qda.predict(test_vals)\n",
    "    print(pred_qda.shape)\n",
    "    metrics_qda = Metrics(test_labels, pred_qda)\n",
    "    print(metrics_qda)\n",
    "\n",
    "    # Test on test image\n",
    "    image_test_pred = qda.predict(image_test_array_flat)\n",
    "    image_test_pred = image_test_pred.reshape(image_test_shape[:2])\n",
    "    cv2.imwrite(f'output/{image_test_name}-pred-qda.png', image_test_pred * 255)"
   ]
  },
  {
   "cell_type": "code",
   "execution_count": null,
   "metadata": {},
   "outputs": [],
   "source": []
  }
 ],
 "metadata": {
  "interpreter": {
   "hash": "397704579725e15f5c7cb49fe5f0341eb7531c82d19f2c29d197e8b64ab5776b"
  },
  "kernelspec": {
   "display_name": "Python 3.9.0 64-bit",
   "language": "python",
   "name": "python3"
  },
  "language_info": {
   "codemirror_mode": {
    "name": "ipython",
    "version": 3
   },
   "file_extension": ".py",
   "mimetype": "text/x-python",
   "name": "python",
   "nbconvert_exporter": "python",
   "pygments_lexer": "ipython3",
   "version": "3.9.0"
  },
  "orig_nbformat": 4
 },
 "nbformat": 4,
 "nbformat_minor": 2
}
